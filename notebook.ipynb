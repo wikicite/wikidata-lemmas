{
 "cells": [
  {
   "cell_type": "markdown",
   "metadata": {},
   "source": [
    "# Lexicographical Wikidata\n",
    "\n",
    "Wikidata is adding support of [lexicographical data](https://www.wikidata.org/wiki/Wikidata:Lexicographical_data). This Jupyter Notebook shows how to do some data analysis."
   ]
  },
  {
   "cell_type": "markdown",
   "metadata": {},
   "source": [
    "## Download lexicographical entities\n",
    "\n",
    "The number of lexicographical entities in Wikidata (called ''lemmas'') is still manageable so we can directly download their data in JSON format. This may take a few minutes. For convenience a the file `lemmas.ndjson` is already included. Add option `-B` to force an update:"
   ]
  },
  {
   "cell_type": "code",
   "execution_count": 3,
   "metadata": {},
   "outputs": [
    {
     "name": "stdout",
     "output_type": "stream",
     "text": [
      "./getLemmas > lemmas.ndjson\r\n",
      "\n"
     ]
    }
   ],
   "source": [
    "make lemmas.ndjson"
   ]
  },
  {
   "cell_type": "markdown",
   "metadata": {},
   "source": [
    "## Examples of data analysis"
   ]
  },
  {
   "cell_type": "markdown",
   "metadata": {},
   "source": [
    "Which labels contain spaces?"
   ]
  },
  {
   "cell_type": "code",
   "execution_count": 7,
   "metadata": {},
   "outputs": [
    {
     "name": "stdout",
     "output_type": "stream",
     "text": [
      "make: 'labels.tsv' is up to date.\r\n",
      "L137\ten\thundred and thirty-seven\r\n",
      "L464\tsrn\tOpo langi\r\n",
      "L474\tfr\ttour de Babel\r\n",
      "L733\ten\tset up\r\n",
      "L766\ten\tregular Breton conjugation\r\n",
      "L793\tfr\tbête à bon Dieu\r\n",
      "L796\tfr\tà droite\r\n",
      "L1108\tfr\tacte de baptême\r\n",
      "L1234\tmis-x-Q3938\tsandbox 2\r\n",
      "L1654\ten\tLatin first conjugation\r\n",
      "\n"
     ]
    }
   ],
   "source": [
    "make labels.tsv\n",
    "awk -F $'\\t' '$3 ~ / / {print}' labels.tsv"
   ]
  },
  {
   "cell_type": "markdown",
   "metadata": {},
   "source": [
    "Which properties are used how frequently on lexemes and forms?"
   ]
  },
  {
   "cell_type": "code",
   "execution_count": 8,
   "metadata": {},
   "outputs": [
    {
     "name": "stdout",
     "output_type": "stream",
     "text": [
      "jq -r '.id as $id | .claims | keys[] | [$id,.] | @tsv' lemmas.ndjson > properties.tsv\r\n",
      "jq -r -f extractProperties.jq lemmas.ndjson >> properties.tsv\r\n",
      "      1 P1269\r\n",
      "      1 P1326\r\n",
      "      1 P1629\r\n",
      "      1 P2591\r\n",
      "      1 P361\r\n",
      "      1 P5188\r\n",
      "      1 P5189\r\n",
      "      2 P18\r\n",
      "      2 P2559\r\n",
      "      2 P5205\r\n",
      "      3 P1942\r\n",
      "      3 P5194\r\n",
      "      3 P854\r\n",
      "      4 P2125\r\n",
      "      4 P31\r\n",
      "      5 P1814\r\n",
      "      5 P21\r\n",
      "      8 P2001\r\n",
      "      8 P2888\r\n",
      "      8 P5137\r\n",
      "     13 P2440\r\n",
      "     22 P5191\r\n",
      "     26 P51\r\n",
      "     28 P443\r\n",
      "     36 P369\r\n",
      "     61 P5186\r\n",
      "     64 P5187\r\n",
      "    136 P898\r\n",
      "    206 P5185\r\n",
      "\n"
     ]
    }
   ],
   "source": [
    "make properties.tsv\n",
    "awk '{print $2}' properties.tsv | ./histogram"
   ]
  },
  {
   "cell_type": "markdown",
   "metadata": {},
   "source": []
  }
 ],
 "metadata": {
  "kernelspec": {
   "display_name": "Calysto Bash",
   "language": "bash",
   "name": "calysto_bash"
  },
  "language_info": {
   "file_extension": ".sh",
   "help_links": [
    {
     "text": "MetaKernel Magics",
     "url": "https://github.com/calysto/metakernel/blob/master/metakernel/magics/README.md"
    }
   ],
   "mimetype": "text/x-sh",
   "name": "bash",
   "version": "0.2.0"
  }
 },
 "nbformat": 4,
 "nbformat_minor": 2
}
